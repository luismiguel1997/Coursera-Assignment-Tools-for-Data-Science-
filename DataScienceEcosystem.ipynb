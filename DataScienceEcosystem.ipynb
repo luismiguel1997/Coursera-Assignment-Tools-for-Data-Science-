{
 "cells": [
  {
   "cell_type": "markdown",
   "id": "6a2fc52e",
   "metadata": {},
   "source": [
    "# Data Science Tools and Ecosystem"
   ]
  },
  {
   "cell_type": "markdown",
   "id": "a3d9ce98",
   "metadata": {},
   "source": [
    "In this notebook, Data Science Tools and Ecosystem are summarized."
   ]
  },
  {
   "cell_type": "markdown",
   "id": "c9422afe",
   "metadata": {},
   "source": [
    "Some of the popular languages that Data Scientists use are:"
   ]
  },
  {
   "cell_type": "markdown",
   "id": "c29ee72c",
   "metadata": {},
   "source": [
    "1. Python \n",
    "2. Java \n",
    "3. C++ \n",
    "4. C"
   ]
  },
  {
   "cell_type": "markdown",
   "id": "ac4a0c10",
   "metadata": {},
   "source": [
    "**Objectives:**\n",
    "- List Popular Languages. \n",
    "- Execute arithmetic operations.\n",
    "- Learn how to markdown cells.\n",
    "- List commoon libraries used by Data Scientists."
   ]
  },
  {
   "cell_type": "markdown",
   "id": "324713ed",
   "metadata": {},
   "source": [
    "Some of the commonly used libraries used by Data Scientists include:"
   ]
  },
  {
   "cell_type": "markdown",
   "id": "6eb2a93f",
   "metadata": {},
   "source": [
    "1. NumPy \n",
    "2. Matpotlib\n",
    "3. Pandas\n",
    "4. TensorFlow"
   ]
  },
  {
   "cell_type": "markdown",
   "id": "ee05399d",
   "metadata": {},
   "source": [
    "| Data Science Tools |\n",
    "|---|\n",
    "| Hadoop |\n",
    "| Jupyter Notebooks |\n",
    "| R Studio |"
   ]
  },
  {
   "cell_type": "markdown",
   "id": "0133aa78",
   "metadata": {},
   "source": []
  },
  {
   "cell_type": "markdown",
   "id": "88078ed0",
   "metadata": {},
   "source": [
    "### Below are a few examples of evaluating arithmetic expressions in Python"
   ]
  },
  {
   "cell_type": "code",
   "execution_count": 6,
   "id": "e69d7324",
   "metadata": {},
   "outputs": [
    {
     "data": {
      "text/plain": [
       "17"
      ]
     },
     "execution_count": 6,
     "metadata": {},
     "output_type": "execute_result"
    }
   ],
   "source": [
    "# This a simple arithmetic expression to mutiply then add integers\n",
    "\n",
    "(3*4)+5"
   ]
  },
  {
   "cell_type": "code",
   "execution_count": 7,
   "id": "0943cc5d",
   "metadata": {},
   "outputs": [
    {
     "data": {
      "text/plain": [
       "3.3333333333333335"
      ]
     },
     "execution_count": 7,
     "metadata": {},
     "output_type": "execute_result"
    }
   ],
   "source": [
    "#This will convert 200 minutes to hours by dividing by 60 \n",
    "\n",
    "200/60 \n"
   ]
  },
  {
   "cell_type": "markdown",
   "id": "525973bb",
   "metadata": {},
   "source": [
    "## Author\n",
    "\n",
    "Luis M. Benitez Norat "
   ]
  },
  {
   "cell_type": "code",
   "execution_count": null,
   "id": "6caf3ce4",
   "metadata": {},
   "outputs": [],
   "source": []
  }
 ],
 "metadata": {
  "kernelspec": {
   "display_name": "Python 3 (ipykernel)",
   "language": "python",
   "name": "python3"
  },
  "language_info": {
   "codemirror_mode": {
    "name": "ipython",
    "version": 3
   },
   "file_extension": ".py",
   "mimetype": "text/x-python",
   "name": "python",
   "nbconvert_exporter": "python",
   "pygments_lexer": "ipython3",
   "version": "3.11.5"
  }
 },
 "nbformat": 4,
 "nbformat_minor": 5
}
